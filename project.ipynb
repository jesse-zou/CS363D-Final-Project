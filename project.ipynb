{
 "cells": [
  {
   "cell_type": "markdown",
   "metadata": {},
   "source": [
    "# Final Project\n",
    "## Group Members: Jesse Zou, Andy Li, Yuhan Zheng, Zhiyao Bao"
   ]
  },
  {
   "cell_type": "markdown",
   "metadata": {},
   "source": [
    "# Introduction"
   ]
  },
  {
   "cell_type": "markdown",
   "metadata": {},
   "source": [
    "* What is the data science problem you are trying to solve?\n",
    "    * We're trying to predict the trend of the stock market (if the stock market's price will go up or go down in general for the next day) for DOW30, SP500 and NASDAQ respectively.\n",
    "* Why does the problem matter?\n",
    "    * First, we will be able to have an unbiased analysis on the market and the economy. The stock market is influenced by human emotions and irrational sentiments. By being able to predict micro-movements in the market prices, we are able to also model human behavior. Additionally, it may help people involved in day trading to earn money. \n",
    "* What could the results of your predictive model be used for?\n",
    "    * The model can be used by people who trade in the stock market to make better decisions and potentially generate more profit on their investments.\n",
    "* Why would we want to be able to predict the thing you’re trying to predict?\n",
    "    * We want to be able to predict the stock market prices because it helps us to better understand the stock market.\n",
    "* Then describe the dataset that you will use to tackle this problem\n",
    "    * The dataset contains a data point for each day of the SP500, DOW30, and NASDAQ. These are stock indexes, that is, a sort of average for the entire stock market. By doing an analysis on this dataset, we are capturing the entire market and economy as a whole."
   ]
  },
  {
   "cell_type": "code",
   "execution_count": 21,
   "metadata": {},
   "outputs": [],
   "source": [
    "# Imports\n",
    "import warnings\n",
    "#warnings.simplefilter(\"ignore\")\n",
    "import pandas as pd\n",
    "import numpy as np\n",
    "import sklearn as sk\n",
    "import matplotlib.pyplot as plt\n",
    "import time\n",
    "from sklearn.model_selection import train_test_split\n",
    "from sklearn.tree import DecisionTreeClassifier\n",
    "from sklearn.metrics import accuracy_score, confusion_matrix, classification_report\n",
    "from sklearn.model_selection import cross_val_score, cross_val_predict, GridSearchCV\n",
    "from sklearn.naive_bayes import GaussianNB\n",
    "from sklearn.preprocessing import StandardScaler\n",
    "from sklearn.decomposition import PCA\n",
    "from sklearn.neighbors import KNeighborsClassifier\n",
    "from sklearn.pipeline import Pipeline\n",
    "from sklearn.svm import SVC\n",
    "from sklearn.neural_network import MLPClassifier\n",
    "from sklearn.ensemble import RandomForestClassifier, AdaBoostClassifier\n",
    "from sklearn.ensemble import VotingClassifier\n",
    "from sklearn.utils._testing import ignore_warnings\n",
    "from sklearn.exceptions import ConvergenceWarning"
   ]
  },
  {
   "cell_type": "code",
   "execution_count": 43,
   "metadata": {},
   "outputs": [],
   "source": [
    "%matplotlib inline"
   ]
  },
  {
   "cell_type": "markdown",
   "metadata": {},
   "source": [
    "# Load datasets"
   ]
  },
  {
   "cell_type": "markdown",
   "metadata": {},
   "source": [
    "We first cache the data sets here for continuous usage, taking away overhead that would happen from loading in the data set at each step of the training."
   ]
  },
  {
   "cell_type": "code",
   "execution_count": 44,
   "metadata": {},
   "outputs": [],
   "source": [
    "# Read data\n",
    "data_dow = pd.read_csv(\"DOW30.csv\")\n",
    "data_sp = pd.read_csv(\"SP500.csv\")\n",
    "data_nas = pd.read_csv(\"NASDAQ.csv\")"
   ]
  },
  {
   "cell_type": "markdown",
   "metadata": {},
   "source": [
    "# Data Cleaning"
   ]
  },
  {
   "cell_type": "markdown",
   "metadata": {},
   "source": [
    "Before performing data cleaning, we first verify whether or not it is even necessary. Some data sets come fully intact without inconsistencies, so we check if the data sets contain any null values before continuing on."
   ]
  },
  {
   "cell_type": "code",
   "execution_count": 45,
   "metadata": {},
   "outputs": [
    {
     "name": "stdout",
     "output_type": "stream",
     "text": [
      "do not need data cleaning\n"
     ]
    }
   ],
   "source": [
    "def need_data_cleaning():\n",
    "    if data_dow.isnull().values.any() or data_sp.isnull().values.any() or data_nas.isnull().values.any():\n",
    "        print(\"has None value in dataset\")\n",
    "    else:\n",
    "        print(\"do not need data cleaning\")\n",
    "\n",
    "need_data_cleaning()"
   ]
  },
  {
   "cell_type": "markdown",
   "metadata": {},
   "source": [
    "We got \"do not need data cleaning\", which means there is no \"Null\" value in any of those three datasets we are going to use (DOW30.csv, SP500.csv, and NASDAQ.csv). In this case, we can conclude that our datasets are good and no further data cleaning is needed."
   ]
  },
  {
   "cell_type": "markdown",
   "metadata": {},
   "source": [
    "# Data Exploration"
   ]
  },
  {
   "cell_type": "markdown",
   "metadata": {},
   "source": [
    "The data was then explored by using a box plot. \n",
    "\n",
    "Using the box plot, the data set can be summarized into its minimum, 1st quartile, median, 3rd quartile, and maximum, along with any outliers that are contained in the data."
   ]
  },
  {
   "cell_type": "code",
   "execution_count": 47,
   "metadata": {},
   "outputs": [
    {
     "name": "stdout",
     "output_type": "stream",
     "text": [
      "Attributes in DOW30 dataset:\n",
      "['Date' 'LABEL' 'Open' 'High' 'Low' 'Close' 'Volume' 'InterestRate'\n",
      " 'ExchangeRate' 'VIX' 'Gold' 'Oil' 'TEDSpread' 'EFFR']\n",
      "\n",
      "Attributes in SP500 dataset:\n",
      "['Date' 'LABEL' 'Open' 'High' 'Low' 'Close' 'Volume' 'InterestRate'\n",
      " 'ExchangeRate' 'VIX' 'Gold' 'Oil' 'TEDSpread' 'EFFR']\n",
      "\n",
      "Attributes in NASDAQ dataset:\n",
      "['Date' 'LABEL' 'Open' 'High' 'Low' 'Close' 'Volume' 'InterestRate'\n",
      " 'ExchangeRate' 'VIX' 'Gold' 'Oil' 'TEDSpread' 'EFFR']\n"
     ]
    }
   ],
   "source": [
    "# check attributes in each dataset\n",
    "print(\"Attributes in DOW30 dataset:\")\n",
    "print(data_dow.columns.values)\n",
    "\n",
    "print(\"\\nAttributes in SP500 dataset:\")\n",
    "print(data_sp.columns.values)\n",
    "\n",
    "print(\"\\nAttributes in NASDAQ dataset:\")\n",
    "print(data_nas.columns.values)"
   ]
  },
  {
   "cell_type": "code",
   "execution_count": 48,
   "metadata": {},
   "outputs": [
    {
     "name": "stdout",
     "output_type": "stream",
     "text": [
      "1    1328\n",
      "0    1120\n",
      "Name: LABEL, dtype: int64\n",
      "1    1340\n",
      "0    1108\n",
      "Name: LABEL, dtype: int64\n",
      "1    1363\n",
      "0    1085\n",
      "Name: LABEL, dtype: int64\n",
      "\n",
      "There isn't a class inbalance since the amount of data with label 1 and label 0 are relatively close in each dataset.\n"
     ]
    }
   ],
   "source": [
    "# check for class inbalance in each dataset\n",
    "groups = data_dow['LABEL'].value_counts()\n",
    "print(groups)\n",
    "groups = data_sp['LABEL'].value_counts()\n",
    "print(groups)\n",
    "groups = data_nas['LABEL'].value_counts()\n",
    "print(groups)\n",
    "print(\"\\nThere isn't a class inbalance since the amount of data with label 1 and label 0 are relatively close in each dataset.\")"
   ]
  },
  {
   "cell_type": "code",
   "execution_count": 49,
   "metadata": {},
   "outputs": [
    {
     "data": {
      "text/html": [
       "<div>\n",
       "<style scoped>\n",
       "    .dataframe tbody tr th:only-of-type {\n",
       "        vertical-align: middle;\n",
       "    }\n",
       "\n",
       "    .dataframe tbody tr th {\n",
       "        vertical-align: top;\n",
       "    }\n",
       "\n",
       "    .dataframe thead th {\n",
       "        text-align: right;\n",
       "    }\n",
       "</style>\n",
       "<table border=\"1\" class=\"dataframe\">\n",
       "  <thead>\n",
       "    <tr style=\"text-align: right;\">\n",
       "      <th></th>\n",
       "      <th>LABEL</th>\n",
       "      <th>Open</th>\n",
       "      <th>High</th>\n",
       "      <th>Low</th>\n",
       "      <th>Close</th>\n",
       "      <th>Volume</th>\n",
       "      <th>InterestRate</th>\n",
       "      <th>ExchangeRate</th>\n",
       "      <th>VIX</th>\n",
       "      <th>Gold</th>\n",
       "      <th>Oil</th>\n",
       "      <th>TEDSpread</th>\n",
       "      <th>EFFR</th>\n",
       "    </tr>\n",
       "  </thead>\n",
       "  <tbody>\n",
       "    <tr>\n",
       "      <th>count</th>\n",
       "      <td>2448.000000</td>\n",
       "      <td>2448.000000</td>\n",
       "      <td>2448.000000</td>\n",
       "      <td>2448.000000</td>\n",
       "      <td>2448.000000</td>\n",
       "      <td>2.448000e+03</td>\n",
       "      <td>2448.000000</td>\n",
       "      <td>2448.000000</td>\n",
       "      <td>2448.000000</td>\n",
       "      <td>2448.000000</td>\n",
       "      <td>2448.000000</td>\n",
       "      <td>2448.000000</td>\n",
       "      <td>2448.000000</td>\n",
       "    </tr>\n",
       "    <tr>\n",
       "      <th>mean</th>\n",
       "      <td>0.542484</td>\n",
       "      <td>14776.818372</td>\n",
       "      <td>14858.314373</td>\n",
       "      <td>14691.128288</td>\n",
       "      <td>14779.709081</td>\n",
       "      <td>1.860912e+08</td>\n",
       "      <td>1.758832</td>\n",
       "      <td>1.281169</td>\n",
       "      <td>19.887296</td>\n",
       "      <td>1274.313991</td>\n",
       "      <td>75.563137</td>\n",
       "      <td>0.415776</td>\n",
       "      <td>0.382831</td>\n",
       "    </tr>\n",
       "    <tr>\n",
       "      <th>std</th>\n",
       "      <td>0.498294</td>\n",
       "      <td>4223.631326</td>\n",
       "      <td>4220.319281</td>\n",
       "      <td>4228.302892</td>\n",
       "      <td>4224.400625</td>\n",
       "      <td>1.104695e+08</td>\n",
       "      <td>0.623806</td>\n",
       "      <td>0.130193</td>\n",
       "      <td>9.988958</td>\n",
       "      <td>241.554767</td>\n",
       "      <td>24.673508</td>\n",
       "      <td>0.457680</td>\n",
       "      <td>0.516170</td>\n",
       "    </tr>\n",
       "    <tr>\n",
       "      <th>min</th>\n",
       "      <td>0.000000</td>\n",
       "      <td>6547.009766</td>\n",
       "      <td>6709.609863</td>\n",
       "      <td>6469.950195</td>\n",
       "      <td>6547.049805</td>\n",
       "      <td>8.410000e+06</td>\n",
       "      <td>0.470000</td>\n",
       "      <td>1.037500</td>\n",
       "      <td>9.140000</td>\n",
       "      <td>692.500000</td>\n",
       "      <td>26.190000</td>\n",
       "      <td>0.090000</td>\n",
       "      <td>0.040000</td>\n",
       "    </tr>\n",
       "    <tr>\n",
       "      <th>25%</th>\n",
       "      <td>0.000000</td>\n",
       "      <td>11406.242188</td>\n",
       "      <td>11479.565182</td>\n",
       "      <td>11301.890380</td>\n",
       "      <td>11408.205080</td>\n",
       "      <td>1.032550e+08</td>\n",
       "      <td>1.310000</td>\n",
       "      <td>1.157950</td>\n",
       "      <td>13.547500</td>\n",
       "      <td>1144.875000</td>\n",
       "      <td>50.805000</td>\n",
       "      <td>0.210000</td>\n",
       "      <td>0.110000</td>\n",
       "    </tr>\n",
       "    <tr>\n",
       "      <th>50%</th>\n",
       "      <td>1.000000</td>\n",
       "      <td>14548.929690</td>\n",
       "      <td>14586.964845</td>\n",
       "      <td>14464.049805</td>\n",
       "      <td>14555.000000</td>\n",
       "      <td>1.513600e+08</td>\n",
       "      <td>1.715000</td>\n",
       "      <td>1.301650</td>\n",
       "      <td>16.920000</td>\n",
       "      <td>1258.425000</td>\n",
       "      <td>78.495000</td>\n",
       "      <td>0.270000</td>\n",
       "      <td>0.150000</td>\n",
       "    </tr>\n",
       "    <tr>\n",
       "      <th>75%</th>\n",
       "      <td>1.000000</td>\n",
       "      <td>17724.763185</td>\n",
       "      <td>17797.615230</td>\n",
       "      <td>17629.057132</td>\n",
       "      <td>17723.240235</td>\n",
       "      <td>2.406975e+08</td>\n",
       "      <td>2.330000</td>\n",
       "      <td>1.367925</td>\n",
       "      <td>22.510000</td>\n",
       "      <td>1374.500000</td>\n",
       "      <td>96.170000</td>\n",
       "      <td>0.400000</td>\n",
       "      <td>0.370000</td>\n",
       "    </tr>\n",
       "    <tr>\n",
       "      <th>max</th>\n",
       "      <td>1.000000</td>\n",
       "      <td>26584.279300</td>\n",
       "      <td>26616.710940</td>\n",
       "      <td>26435.339840</td>\n",
       "      <td>26616.710940</td>\n",
       "      <td>8.239400e+08</td>\n",
       "      <td>2.910000</td>\n",
       "      <td>1.601000</td>\n",
       "      <td>80.860000</td>\n",
       "      <td>1891.000000</td>\n",
       "      <td>145.310000</td>\n",
       "      <td>4.580000</td>\n",
       "      <td>2.970000</td>\n",
       "    </tr>\n",
       "  </tbody>\n",
       "</table>\n",
       "</div>"
      ],
      "text/plain": [
       "             LABEL          Open          High           Low         Close  \\\n",
       "count  2448.000000   2448.000000   2448.000000   2448.000000   2448.000000   \n",
       "mean      0.542484  14776.818372  14858.314373  14691.128288  14779.709081   \n",
       "std       0.498294   4223.631326   4220.319281   4228.302892   4224.400625   \n",
       "min       0.000000   6547.009766   6709.609863   6469.950195   6547.049805   \n",
       "25%       0.000000  11406.242188  11479.565182  11301.890380  11408.205080   \n",
       "50%       1.000000  14548.929690  14586.964845  14464.049805  14555.000000   \n",
       "75%       1.000000  17724.763185  17797.615230  17629.057132  17723.240235   \n",
       "max       1.000000  26584.279300  26616.710940  26435.339840  26616.710940   \n",
       "\n",
       "             Volume  InterestRate  ExchangeRate          VIX         Gold  \\\n",
       "count  2.448000e+03   2448.000000   2448.000000  2448.000000  2448.000000   \n",
       "mean   1.860912e+08      1.758832      1.281169    19.887296  1274.313991   \n",
       "std    1.104695e+08      0.623806      0.130193     9.988958   241.554767   \n",
       "min    8.410000e+06      0.470000      1.037500     9.140000   692.500000   \n",
       "25%    1.032550e+08      1.310000      1.157950    13.547500  1144.875000   \n",
       "50%    1.513600e+08      1.715000      1.301650    16.920000  1258.425000   \n",
       "75%    2.406975e+08      2.330000      1.367925    22.510000  1374.500000   \n",
       "max    8.239400e+08      2.910000      1.601000    80.860000  1891.000000   \n",
       "\n",
       "               Oil    TEDSpread         EFFR  \n",
       "count  2448.000000  2448.000000  2448.000000  \n",
       "mean     75.563137     0.415776     0.382831  \n",
       "std      24.673508     0.457680     0.516170  \n",
       "min      26.190000     0.090000     0.040000  \n",
       "25%      50.805000     0.210000     0.110000  \n",
       "50%      78.495000     0.270000     0.150000  \n",
       "75%      96.170000     0.400000     0.370000  \n",
       "max     145.310000     4.580000     2.970000  "
      ]
     },
     "execution_count": 49,
     "metadata": {},
     "output_type": "execute_result"
    }
   ],
   "source": [
    "# get stats on each attribute in DOW30\n",
    "data_dow.describe()"
   ]
  },
  {
   "cell_type": "code",
   "execution_count": 50,
   "metadata": {},
   "outputs": [
    {
     "data": {
      "text/html": [
       "<div>\n",
       "<style scoped>\n",
       "    .dataframe tbody tr th:only-of-type {\n",
       "        vertical-align: middle;\n",
       "    }\n",
       "\n",
       "    .dataframe tbody tr th {\n",
       "        vertical-align: top;\n",
       "    }\n",
       "\n",
       "    .dataframe thead th {\n",
       "        text-align: right;\n",
       "    }\n",
       "</style>\n",
       "<table border=\"1\" class=\"dataframe\">\n",
       "  <thead>\n",
       "    <tr style=\"text-align: right;\">\n",
       "      <th></th>\n",
       "      <th>LABEL</th>\n",
       "      <th>Open</th>\n",
       "      <th>High</th>\n",
       "      <th>Low</th>\n",
       "      <th>Close</th>\n",
       "      <th>Volume</th>\n",
       "      <th>InterestRate</th>\n",
       "      <th>ExchangeRate</th>\n",
       "      <th>VIX</th>\n",
       "      <th>Gold</th>\n",
       "      <th>Oil</th>\n",
       "      <th>TEDSpread</th>\n",
       "      <th>EFFR</th>\n",
       "    </tr>\n",
       "  </thead>\n",
       "  <tbody>\n",
       "    <tr>\n",
       "      <th>count</th>\n",
       "      <td>2448.000000</td>\n",
       "      <td>2448.000000</td>\n",
       "      <td>2448.000000</td>\n",
       "      <td>2448.000000</td>\n",
       "      <td>2448.000000</td>\n",
       "      <td>2.448000e+03</td>\n",
       "      <td>2448.000000</td>\n",
       "      <td>2448.000000</td>\n",
       "      <td>2448.000000</td>\n",
       "      <td>2448.000000</td>\n",
       "      <td>2448.000000</td>\n",
       "      <td>2448.000000</td>\n",
       "      <td>2448.000000</td>\n",
       "    </tr>\n",
       "    <tr>\n",
       "      <th>mean</th>\n",
       "      <td>0.547386</td>\n",
       "      <td>1646.084974</td>\n",
       "      <td>1655.057860</td>\n",
       "      <td>1636.358207</td>\n",
       "      <td>1646.369387</td>\n",
       "      <td>4.068707e+09</td>\n",
       "      <td>1.758832</td>\n",
       "      <td>1.281169</td>\n",
       "      <td>19.887296</td>\n",
       "      <td>1274.313991</td>\n",
       "      <td>75.563137</td>\n",
       "      <td>0.415776</td>\n",
       "      <td>0.382831</td>\n",
       "    </tr>\n",
       "    <tr>\n",
       "      <th>std</th>\n",
       "      <td>0.497851</td>\n",
       "      <td>510.627540</td>\n",
       "      <td>510.191819</td>\n",
       "      <td>511.150630</td>\n",
       "      <td>510.731453</td>\n",
       "      <td>1.160253e+09</td>\n",
       "      <td>0.623806</td>\n",
       "      <td>0.130193</td>\n",
       "      <td>9.988958</td>\n",
       "      <td>241.554767</td>\n",
       "      <td>24.673508</td>\n",
       "      <td>0.457680</td>\n",
       "      <td>0.516170</td>\n",
       "    </tr>\n",
       "    <tr>\n",
       "      <th>min</th>\n",
       "      <td>0.000000</td>\n",
       "      <td>679.280029</td>\n",
       "      <td>695.270020</td>\n",
       "      <td>666.789978</td>\n",
       "      <td>676.530029</td>\n",
       "      <td>1.030000e+09</td>\n",
       "      <td>0.470000</td>\n",
       "      <td>1.037500</td>\n",
       "      <td>9.140000</td>\n",
       "      <td>692.500000</td>\n",
       "      <td>26.190000</td>\n",
       "      <td>0.090000</td>\n",
       "      <td>0.040000</td>\n",
       "    </tr>\n",
       "    <tr>\n",
       "      <th>25%</th>\n",
       "      <td>0.000000</td>\n",
       "      <td>1224.319977</td>\n",
       "      <td>1237.059997</td>\n",
       "      <td>1212.862488</td>\n",
       "      <td>1224.562470</td>\n",
       "      <td>3.349525e+09</td>\n",
       "      <td>1.310000</td>\n",
       "      <td>1.157950</td>\n",
       "      <td>13.547500</td>\n",
       "      <td>1144.875000</td>\n",
       "      <td>50.805000</td>\n",
       "      <td>0.210000</td>\n",
       "      <td>0.110000</td>\n",
       "    </tr>\n",
       "    <tr>\n",
       "      <th>50%</th>\n",
       "      <td>1.000000</td>\n",
       "      <td>1557.799988</td>\n",
       "      <td>1563.784973</td>\n",
       "      <td>1549.215027</td>\n",
       "      <td>1559.344971</td>\n",
       "      <td>3.790120e+09</td>\n",
       "      <td>1.715000</td>\n",
       "      <td>1.301650</td>\n",
       "      <td>16.920000</td>\n",
       "      <td>1258.425000</td>\n",
       "      <td>78.495000</td>\n",
       "      <td>0.270000</td>\n",
       "      <td>0.150000</td>\n",
       "    </tr>\n",
       "    <tr>\n",
       "      <th>75%</th>\n",
       "      <td>1.000000</td>\n",
       "      <td>2070.022461</td>\n",
       "      <td>2078.302490</td>\n",
       "      <td>2058.302491</td>\n",
       "      <td>2069.719910</td>\n",
       "      <td>4.514835e+09</td>\n",
       "      <td>2.330000</td>\n",
       "      <td>1.367925</td>\n",
       "      <td>22.510000</td>\n",
       "      <td>1374.500000</td>\n",
       "      <td>96.170000</td>\n",
       "      <td>0.400000</td>\n",
       "      <td>0.370000</td>\n",
       "    </tr>\n",
       "    <tr>\n",
       "      <th>max</th>\n",
       "      <td>1.000000</td>\n",
       "      <td>2867.229980</td>\n",
       "      <td>2872.870117</td>\n",
       "      <td>2851.479980</td>\n",
       "      <td>2872.870117</td>\n",
       "      <td>1.145623e+10</td>\n",
       "      <td>2.910000</td>\n",
       "      <td>1.601000</td>\n",
       "      <td>80.860000</td>\n",
       "      <td>1891.000000</td>\n",
       "      <td>145.310000</td>\n",
       "      <td>4.580000</td>\n",
       "      <td>2.970000</td>\n",
       "    </tr>\n",
       "  </tbody>\n",
       "</table>\n",
       "</div>"
      ],
      "text/plain": [
       "             LABEL         Open         High          Low        Close  \\\n",
       "count  2448.000000  2448.000000  2448.000000  2448.000000  2448.000000   \n",
       "mean      0.547386  1646.084974  1655.057860  1636.358207  1646.369387   \n",
       "std       0.497851   510.627540   510.191819   511.150630   510.731453   \n",
       "min       0.000000   679.280029   695.270020   666.789978   676.530029   \n",
       "25%       0.000000  1224.319977  1237.059997  1212.862488  1224.562470   \n",
       "50%       1.000000  1557.799988  1563.784973  1549.215027  1559.344971   \n",
       "75%       1.000000  2070.022461  2078.302490  2058.302491  2069.719910   \n",
       "max       1.000000  2867.229980  2872.870117  2851.479980  2872.870117   \n",
       "\n",
       "             Volume  InterestRate  ExchangeRate          VIX         Gold  \\\n",
       "count  2.448000e+03   2448.000000   2448.000000  2448.000000  2448.000000   \n",
       "mean   4.068707e+09      1.758832      1.281169    19.887296  1274.313991   \n",
       "std    1.160253e+09      0.623806      0.130193     9.988958   241.554767   \n",
       "min    1.030000e+09      0.470000      1.037500     9.140000   692.500000   \n",
       "25%    3.349525e+09      1.310000      1.157950    13.547500  1144.875000   \n",
       "50%    3.790120e+09      1.715000      1.301650    16.920000  1258.425000   \n",
       "75%    4.514835e+09      2.330000      1.367925    22.510000  1374.500000   \n",
       "max    1.145623e+10      2.910000      1.601000    80.860000  1891.000000   \n",
       "\n",
       "               Oil    TEDSpread         EFFR  \n",
       "count  2448.000000  2448.000000  2448.000000  \n",
       "mean     75.563137     0.415776     0.382831  \n",
       "std      24.673508     0.457680     0.516170  \n",
       "min      26.190000     0.090000     0.040000  \n",
       "25%      50.805000     0.210000     0.110000  \n",
       "50%      78.495000     0.270000     0.150000  \n",
       "75%      96.170000     0.400000     0.370000  \n",
       "max     145.310000     4.580000     2.970000  "
      ]
     },
     "execution_count": 50,
     "metadata": {},
     "output_type": "execute_result"
    }
   ],
   "source": [
    "# get stats on each attribute in SP500\n",
    "data_sp.describe()"
   ]
  },
  {
   "cell_type": "code",
   "execution_count": 51,
   "metadata": {},
   "outputs": [
    {
     "data": {
      "text/html": [
       "<div>\n",
       "<style scoped>\n",
       "    .dataframe tbody tr th:only-of-type {\n",
       "        vertical-align: middle;\n",
       "    }\n",
       "\n",
       "    .dataframe tbody tr th {\n",
       "        vertical-align: top;\n",
       "    }\n",
       "\n",
       "    .dataframe thead th {\n",
       "        text-align: right;\n",
       "    }\n",
       "</style>\n",
       "<table border=\"1\" class=\"dataframe\">\n",
       "  <thead>\n",
       "    <tr style=\"text-align: right;\">\n",
       "      <th></th>\n",
       "      <th>LABEL</th>\n",
       "      <th>Open</th>\n",
       "      <th>High</th>\n",
       "      <th>Low</th>\n",
       "      <th>Close</th>\n",
       "      <th>Volume</th>\n",
       "      <th>InterestRate</th>\n",
       "      <th>ExchangeRate</th>\n",
       "      <th>VIX</th>\n",
       "      <th>Gold</th>\n",
       "      <th>Oil</th>\n",
       "      <th>TEDSpread</th>\n",
       "      <th>EFFR</th>\n",
       "    </tr>\n",
       "  </thead>\n",
       "  <tbody>\n",
       "    <tr>\n",
       "      <th>count</th>\n",
       "      <td>2448.000000</td>\n",
       "      <td>2448.000000</td>\n",
       "      <td>2448.000000</td>\n",
       "      <td>2448.000000</td>\n",
       "      <td>2448.000000</td>\n",
       "      <td>2.448000e+03</td>\n",
       "      <td>2448.000000</td>\n",
       "      <td>2448.000000</td>\n",
       "      <td>2448.000000</td>\n",
       "      <td>2448.000000</td>\n",
       "      <td>2448.000000</td>\n",
       "      <td>2448.000000</td>\n",
       "      <td>2448.000000</td>\n",
       "    </tr>\n",
       "    <tr>\n",
       "      <th>mean</th>\n",
       "      <td>0.556781</td>\n",
       "      <td>3724.890605</td>\n",
       "      <td>3745.813435</td>\n",
       "      <td>3701.598365</td>\n",
       "      <td>3725.518689</td>\n",
       "      <td>1.974838e+09</td>\n",
       "      <td>1.758832</td>\n",
       "      <td>1.281169</td>\n",
       "      <td>19.887296</td>\n",
       "      <td>1274.313991</td>\n",
       "      <td>75.563137</td>\n",
       "      <td>0.415776</td>\n",
       "      <td>0.382831</td>\n",
       "    </tr>\n",
       "    <tr>\n",
       "      <th>std</th>\n",
       "      <td>0.496867</td>\n",
       "      <td>1503.781242</td>\n",
       "      <td>1506.786726</td>\n",
       "      <td>1500.069431</td>\n",
       "      <td>1503.920815</td>\n",
       "      <td>4.052348e+08</td>\n",
       "      <td>0.623806</td>\n",
       "      <td>0.130193</td>\n",
       "      <td>9.988958</td>\n",
       "      <td>241.554767</td>\n",
       "      <td>24.673508</td>\n",
       "      <td>0.457680</td>\n",
       "      <td>0.516170</td>\n",
       "    </tr>\n",
       "    <tr>\n",
       "      <th>min</th>\n",
       "      <td>0.000000</td>\n",
       "      <td>1284.839966</td>\n",
       "      <td>1316.150024</td>\n",
       "      <td>1265.520020</td>\n",
       "      <td>1268.640015</td>\n",
       "      <td>0.000000e+00</td>\n",
       "      <td>0.470000</td>\n",
       "      <td>1.037500</td>\n",
       "      <td>9.140000</td>\n",
       "      <td>692.500000</td>\n",
       "      <td>26.190000</td>\n",
       "      <td>0.090000</td>\n",
       "      <td>0.040000</td>\n",
       "    </tr>\n",
       "    <tr>\n",
       "      <th>25%</th>\n",
       "      <td>0.000000</td>\n",
       "      <td>2456.569946</td>\n",
       "      <td>2483.117431</td>\n",
       "      <td>2440.387512</td>\n",
       "      <td>2467.264953</td>\n",
       "      <td>1.739918e+09</td>\n",
       "      <td>1.310000</td>\n",
       "      <td>1.157950</td>\n",
       "      <td>13.547500</td>\n",
       "      <td>1144.875000</td>\n",
       "      <td>50.805000</td>\n",
       "      <td>0.210000</td>\n",
       "      <td>0.110000</td>\n",
       "    </tr>\n",
       "    <tr>\n",
       "      <th>50%</th>\n",
       "      <td>1.000000</td>\n",
       "      <td>3245.350098</td>\n",
       "      <td>3252.900024</td>\n",
       "      <td>3228.904908</td>\n",
       "      <td>3244.685059</td>\n",
       "      <td>1.919330e+09</td>\n",
       "      <td>1.715000</td>\n",
       "      <td>1.301650</td>\n",
       "      <td>16.920000</td>\n",
       "      <td>1258.425000</td>\n",
       "      <td>78.495000</td>\n",
       "      <td>0.270000</td>\n",
       "      <td>0.150000</td>\n",
       "    </tr>\n",
       "    <tr>\n",
       "      <th>75%</th>\n",
       "      <td>1.000000</td>\n",
       "      <td>4893.767334</td>\n",
       "      <td>4909.544922</td>\n",
       "      <td>4871.697388</td>\n",
       "      <td>4894.100098</td>\n",
       "      <td>2.150585e+09</td>\n",
       "      <td>2.330000</td>\n",
       "      <td>1.367925</td>\n",
       "      <td>22.510000</td>\n",
       "      <td>1374.500000</td>\n",
       "      <td>96.170000</td>\n",
       "      <td>0.400000</td>\n",
       "      <td>0.370000</td>\n",
       "    </tr>\n",
       "    <tr>\n",
       "      <th>max</th>\n",
       "      <td>1.000000</td>\n",
       "      <td>7627.520020</td>\n",
       "      <td>7637.270020</td>\n",
       "      <td>7563.439941</td>\n",
       "      <td>7588.319824</td>\n",
       "      <td>4.553600e+09</td>\n",
       "      <td>2.910000</td>\n",
       "      <td>1.601000</td>\n",
       "      <td>80.860000</td>\n",
       "      <td>1891.000000</td>\n",
       "      <td>145.310000</td>\n",
       "      <td>4.580000</td>\n",
       "      <td>2.970000</td>\n",
       "    </tr>\n",
       "  </tbody>\n",
       "</table>\n",
       "</div>"
      ],
      "text/plain": [
       "             LABEL         Open         High          Low        Close  \\\n",
       "count  2448.000000  2448.000000  2448.000000  2448.000000  2448.000000   \n",
       "mean      0.556781  3724.890605  3745.813435  3701.598365  3725.518689   \n",
       "std       0.496867  1503.781242  1506.786726  1500.069431  1503.920815   \n",
       "min       0.000000  1284.839966  1316.150024  1265.520020  1268.640015   \n",
       "25%       0.000000  2456.569946  2483.117431  2440.387512  2467.264953   \n",
       "50%       1.000000  3245.350098  3252.900024  3228.904908  3244.685059   \n",
       "75%       1.000000  4893.767334  4909.544922  4871.697388  4894.100098   \n",
       "max       1.000000  7627.520020  7637.270020  7563.439941  7588.319824   \n",
       "\n",
       "             Volume  InterestRate  ExchangeRate          VIX         Gold  \\\n",
       "count  2.448000e+03   2448.000000   2448.000000  2448.000000  2448.000000   \n",
       "mean   1.974838e+09      1.758832      1.281169    19.887296  1274.313991   \n",
       "std    4.052348e+08      0.623806      0.130193     9.988958   241.554767   \n",
       "min    0.000000e+00      0.470000      1.037500     9.140000   692.500000   \n",
       "25%    1.739918e+09      1.310000      1.157950    13.547500  1144.875000   \n",
       "50%    1.919330e+09      1.715000      1.301650    16.920000  1258.425000   \n",
       "75%    2.150585e+09      2.330000      1.367925    22.510000  1374.500000   \n",
       "max    4.553600e+09      2.910000      1.601000    80.860000  1891.000000   \n",
       "\n",
       "               Oil    TEDSpread         EFFR  \n",
       "count  2448.000000  2448.000000  2448.000000  \n",
       "mean     75.563137     0.415776     0.382831  \n",
       "std      24.673508     0.457680     0.516170  \n",
       "min      26.190000     0.090000     0.040000  \n",
       "25%      50.805000     0.210000     0.110000  \n",
       "50%      78.495000     0.270000     0.150000  \n",
       "75%      96.170000     0.400000     0.370000  \n",
       "max     145.310000     4.580000     2.970000  "
      ]
     },
     "execution_count": 51,
     "metadata": {},
     "output_type": "execute_result"
    }
   ],
   "source": [
    "# get stats on each attribute in NASDAQ\n",
    "data_nas.describe()"
   ]
  },
  {
   "cell_type": "code",
   "execution_count": 52,
   "metadata": {},
   "outputs": [],
   "source": [
    "# Helper functions for visualizatin of data\n",
    "def box_plot(x, col_name):\n",
    "    red_square = dict(markerfacecolor='r', marker='s')\n",
    "    fig, ax = plt.subplots()\n",
    "    ax.set_title(col_name)\n",
    "    data = []\n",
    "    for df in x:\n",
    "        data.append(df[col_name])\n",
    "    ax.boxplot(data, vert=False, flierprops=red_square)\n",
    "\n",
    "def line_graph(x, y):\n",
    "    pass"
   ]
  },
  {
   "cell_type": "code",
   "execution_count": 53,
   "metadata": {},
   "outputs": [
    {
     "data": {
      "image/png": "[encoded data removed]",
      "text/plain": [
       "<Figure size 432x288 with 1 Axes>"
      ]
     },
     "metadata": {
      "needs_background": "light"
     },
     "output_type": "display_data"
    },
    {
     "data": {
      "image/png": "[encoded data removed]",
      "text/plain": [
       "<Figure size 432x288 with 1 Axes>"
      ]
     },
     "metadata": {
      "needs_background": "light"
     },
     "output_type": "display_data"
    },
    {
     "data": {
      "image/png": "[encoded data removed]",
      "text/plain": [
       "<Figure size 432x288 with 1 Axes>"
      ]
     },
     "metadata": {
      "needs_background": "light"
     },
     "output_type": "display_data"
    },
    {
     "data": {
      "image/png": "[encoded data removed]",
      "text/plain": [
       "<Figure size 432x288 with 1 Axes>"
      ]
     },
     "metadata": {
      "needs_background": "light"
     },
     "output_type": "display_data"
    },
    {
     "data": {
      "image/png": "[encoded data removed]",
      "text/plain": [
       "<Figure size 432x288 with 1 Axes>"
      ]
     },
     "metadata": {
      "needs_background": "light"
     },
     "output_type": "display_data"
    },
    {
     "data": {
      "image/png": "[encoded data removed]",
      "text/plain": [
       "<Figure size 432x288 with 1 Axes>"
      ]
     },
     "metadata": {
      "needs_background": "light"
     },
     "output_type": "display_data"
    },
    {
     "data": {
      "image/png": "[encoded data removed]",
      "text/plain": [
       "<Figure size 432x288 with 1 Axes>"
      ]
     },
     "metadata": {
      "needs_background": "light"
     },
     "output_type": "display_data"
    },
    {
     "data": {
      "image/png": "[encoded data removed]",
      "text/plain": [
       "<Figure size 432x288 with 1 Axes>"
      ]
     },
     "metadata": {
      "needs_background": "light"
     },
     "output_type": "display_data"
    },
    {
     "data": {
      "image/png": "[encoded data removed]",
      "text/plain": [
       "<Figure size 432x288 with 1 Axes>"
      ]
     },
     "metadata": {
      "needs_background": "light"
     },
     "output_type": "display_data"
    },
    {
     "data": {
      "image/png": "[encoded data removed]",
      "text/plain": [
       "<Figure size 432x288 with 1 Axes>"
      ]
     },
     "metadata": {
      "needs_background": "light"
     },
     "output_type": "display_data"
    },
    {
     "data": {
      "image/png": "[encoded data removed]",
      "text/plain": [
       "<Figure size 432x288 with 1 Axes>"
      ]
     },
     "metadata": {
      "needs_background": "light"
     },
     "output_type": "display_data"
    },
    {
     "data": {
      "image/png": "[encoded data removed]",
      "text/plain": [
       "<Figure size 432x288 with 1 Axes>"
      ]
     },
     "metadata": {
      "needs_background": "light"
     },
     "output_type": "display_data"
    }
   ],
   "source": [
    "# compare attributes' distribution of value\n",
    "data_dow_show = data_dow.drop(['Date','LABEL'],axis=1)\n",
    "data_sp_show = data_sp.drop(['Date','LABEL'],axis=1)\n",
    "data_nas_show = data_nas.drop(['Date','LABEL'],axis=1)\n",
    "\n",
    "for column in data_dow_show:\n",
    "    box_plot([data_dow_show,data_sp_show,data_nas_show], column)"
   ]
  },
  {
   "cell_type": "markdown",
   "metadata": {},
   "source": [
    "We see outliers in the following attributes: Volume, VIX, Gold, TEDSpread, and EFFR.\n",
    "We decide to keep the outliers in the datasets since they are all part of the natural fluctuation of the stock market. Removing the outliers wouldn't make sense because the data is dependent on each other and outliers happen frequently depending on what affects the stock market. This is why we decided to try various types of feature engineering in order to improve our results.\n",
    "\n",
    "Based on the above boxplots, we can see that these three datasets, which represent three different stock market, have very different range of stock prices (Open, High, Low, Close) and trading volumns (Volume). Therefore, we cannot combine them into a single dataset and treat it as one market to make prediction on.\n"
   ]
  },
  {
   "cell_type": "markdown",
   "metadata": {},
   "source": [
    "# Models"
   ]
  },
  {
   "cell_type": "markdown",
   "metadata": {},
   "source": [
    "The SVM model performs 3 things:\n",
    "    \n",
    "    - Scales the data so that it is normalized to reduce runtime.\n",
    "    - Performs dimensionality reduction using PCA to reduce runtime.\n",
    "        - Tries to reduce our dataset to different dimensionalities (1-10) and find the best one\n",
    "    - Runs SVM\n",
    "        - Tries to train the model using different kernels ('linear', 'rbf', and 'poly') and find the best one\n",
    "Using these steps, we can mitigate the time spent training the SVM model without severely impacting the accuracy."
   ]
  },
  {
   "cell_type": "code",
   "execution_count": null,
   "metadata": {},
   "outputs": [],
   "source": [
    "# SVM\n",
    "def SVM_trainer(data_X, data_Y):\n",
    "    svm_scaler = StandardScaler()\n",
    "    svm_pca = PCA()\n",
    "    svm = SVC()\n",
    "\n",
    "    svm_ppl = Pipeline(steps=[('scaler', svm_scaler), ('pca', svm_pca), ('svm', svm)])\n",
    "\n",
    "    svm_param_grid = {\n",
    "        'pca__n_components': list(range(1, 11)),\n",
    "        'svm__kernel': ['linear', 'rbf', 'poly']\n",
    "    }\n",
    "\n",
    "    svm_grid_search = GridSearchCV(svm_ppl, svm_param_grid, cv=5, scoring='accuracy')\n",
    "    return svm_grid_search"
   ]
  },
  {
   "cell_type": "markdown",
   "metadata": {},
   "source": [
    "The KNN model performs 3 things:\n",
    "    \n",
    "    - Scales the data so that it is normalized to reduce runtime.\n",
    "    - Performs dimensionality reduction using PCA to reduce runtime.\n",
    "        - Tries to reduce our dataset to different dimensionalities (1-10) and find the best one\n",
    "    - Runs KNN\n",
    "        - Tries to train the model using different numbers of neighbors (1-25) and find the best one\n",
    "    \n",
    "Using these steps, we can mitigate the time spent training the SVM model without severely impacting the accuracy."
   ]
  },
  {
   "cell_type": "code",
   "execution_count": null,
   "metadata": {},
   "outputs": [],
   "source": [
    "# KNN\n",
    "def KNN_trainer(data_X, data_Y):\n",
    "    scaler = StandardScaler()\n",
    "    pca = PCA()\n",
    "    knn_classifier = KNeighborsClassifier(n_neighbors=7)\n",
    "    ppl = Pipeline(steps=[('scaler', scaler), ('pca', pca), ('knn', knn_classifier)])\n",
    "\n",
    "    param_grid = {\n",
    "        'pca__n_components': list(range(1, 11)),\n",
    "        'knn__n_neighbors': list(range(1, 26))\n",
    "    }\n",
    "\n",
    "    knn_grid_search = GridSearchCV(ppl, param_grid, cv=5, scoring='accuracy')\n",
    "    return knn_grid_search"
   ]
  },
  {
   "cell_type": "markdown",
   "metadata": {},
   "source": [
    "The Neural Network model performs 3 things:\n",
    "    \n",
    "    - Scales the data so that it is normalized to reduce runtime and to prevent some features from outweighing others.\n",
    "    - Tests varying hidden layers in order to best determine which would have the greatest performance.\n",
    "    - Runs Neural Networks.\n",
    "        - Tests different activation functions ('logistic', 'tanh', and 'relu') to find the best one\n",
    "Using these steps, we can mitigate the time spent training the Neural Network model without severely impacting the accuracy."
   ]
  },
  {
   "cell_type": "code",
   "execution_count": 3,
   "metadata": {},
   "outputs": [],
   "source": [
    "# Neural Network\n",
    "@ignore_warnings(category=ConvergenceWarning)\n",
    "def NN_trainer(data_X, data_Y):\n",
    "    nn_scaler = StandardScaler()\n",
    "    nn = MLPClassifier()\n",
    "\n",
    "    nn_ppl = Pipeline(steps=[('scaler', nn_scaler), ('nn', nn)])\n",
    "    nn_param_grid = {\n",
    "        'nn__hidden_layer_sizes': list(range(30, 61, 10)),\n",
    "        'nn__activation': ['logistic', 'tanh', 'relu']\n",
    "    }\n",
    "    nn_grid_search = GridSearchCV(nn_ppl, nn_param_grid, cv=5, scoring='accuracy')\n",
    "    return nn_grid_search"
   ]
  },
  {
   "cell_type": "markdown",
   "metadata": {},
   "source": [
    "The Ensamble model \n",
    "- combines our SVM model, KNN model and Neural Network model.\n",
    "- uses the prediction from each of the three models as a vote, and it takes the majority vote as its final prediction."
   ]
  },
  {
   "cell_type": "code",
   "execution_count": 4,
   "metadata": {},
   "outputs": [],
   "source": [
    "# Ensamble\n",
    "@ignore_warnings(category=ConvergenceWarning)\n",
    "def ensamble_trainer(svm_grid_search, knn_grid_search, nn_grid_search, data_X, data_Y):\n",
    "    eclf = VotingClassifier(\n",
    "        estimators=[('svm', svm_grid_search), ('knn', knn_grid_search), ('nn', nn_grid_search)],\n",
    "        voting='hard')\n",
    "    for clf, label in zip([svm_grid_search, knn_grid_search, nn_grid_search, eclf], ['SVM', 'KNN', 'Neural Network', 'Ensemble']):\n",
    "        scores = cross_val_score(clf, data_X, data_Y, scoring='accuracy', cv=5)\n",
    "        print(\"Accuracy: %0.2f (+/- %0.2f) [%s]\" % (scores.mean(), scores.std(), label))"
   ]
  },
  {
   "cell_type": "code",
   "execution_count": 56,
   "metadata": {},
   "outputs": [
    {
     "data": {
      "text/html": [
       "<div>\n",
       "<style scoped>\n",
       "    .dataframe tbody tr th:only-of-type {\n",
       "        vertical-align: middle;\n",
       "    }\n",
       "\n",
       "    .dataframe tbody tr th {\n",
       "        vertical-align: top;\n",
       "    }\n",
       "\n",
       "    .dataframe thead th {\n",
       "        text-align: right;\n",
       "    }\n",
       "</style>\n",
       "<table border=\"1\" class=\"dataframe\">\n",
       "  <thead>\n",
       "    <tr style=\"text-align: right;\">\n",
       "      <th></th>\n",
       "      <th>LABEL</th>\n",
       "      <th>Volume</th>\n",
       "      <th>MACD</th>\n",
       "      <th>Aroon</th>\n",
       "      <th>Accumulation/Distribution</th>\n",
       "      <th>Stochastic Oscillator</th>\n",
       "    </tr>\n",
       "  </thead>\n",
       "  <tbody>\n",
       "    <tr>\n",
       "      <th>26</th>\n",
       "      <td>0</td>\n",
       "      <td>195570000.0</td>\n",
       "      <td>162.813277</td>\n",
       "      <td>52.0</td>\n",
       "      <td>4.910995e+07</td>\n",
       "      <td>58.968970</td>\n",
       "    </tr>\n",
       "    <tr>\n",
       "      <th>27</th>\n",
       "      <td>1</td>\n",
       "      <td>180240000.0</td>\n",
       "      <td>157.746119</td>\n",
       "      <td>52.0</td>\n",
       "      <td>-1.042478e+08</td>\n",
       "      <td>36.781803</td>\n",
       "    </tr>\n",
       "    <tr>\n",
       "      <th>28</th>\n",
       "      <td>0</td>\n",
       "      <td>198110000.0</td>\n",
       "      <td>154.380584</td>\n",
       "      <td>52.0</td>\n",
       "      <td>1.306839e+08</td>\n",
       "      <td>37.469111</td>\n",
       "    </tr>\n",
       "    <tr>\n",
       "      <th>29</th>\n",
       "      <td>1</td>\n",
       "      <td>236710000.0</td>\n",
       "      <td>153.867163</td>\n",
       "      <td>52.0</td>\n",
       "      <td>-1.711096e+07</td>\n",
       "      <td>31.671928</td>\n",
       "    </tr>\n",
       "    <tr>\n",
       "      <th>30</th>\n",
       "      <td>1</td>\n",
       "      <td>206820000.0</td>\n",
       "      <td>143.754608</td>\n",
       "      <td>52.0</td>\n",
       "      <td>-2.647650e+07</td>\n",
       "      <td>40.425594</td>\n",
       "    </tr>\n",
       "  </tbody>\n",
       "</table>\n",
       "</div>"
      ],
      "text/plain": [
       "    LABEL       Volume        MACD  Aroon  Accumulation/Distribution  \\\n",
       "26      0  195570000.0  162.813277   52.0               4.910995e+07   \n",
       "27      1  180240000.0  157.746119   52.0              -1.042478e+08   \n",
       "28      0  198110000.0  154.380584   52.0               1.306839e+08   \n",
       "29      1  236710000.0  153.867163   52.0              -1.711096e+07   \n",
       "30      1  206820000.0  143.754608   52.0              -2.647650e+07   \n",
       "\n",
       "    Stochastic Oscillator  \n",
       "26              58.968970  \n",
       "27              36.781803  \n",
       "28              37.469111  \n",
       "29              31.671928  \n",
       "30              40.425594  "
      ]
     },
     "execution_count": 56,
     "metadata": {},
     "output_type": "execute_result"
    }
   ],
   "source": [
    "data_dow_processed = data_dow.drop(['Date', 'TEDSpread', 'EFFR', 'InterestRate', 'ExchangeRate', 'VIX', 'Gold', 'Oil'],axis=1)\n",
    "data_sp_processed = data_sp.drop(['Date', 'TEDSpread', 'EFFR', 'InterestRate', 'ExchangeRate', 'VIX', 'Gold', 'Oil'],axis=1)\n",
    "data_nas_processed = data_nas.drop(['Date', 'TEDSpread', 'EFFR', 'InterestRate', 'ExchangeRate', 'VIX', 'Gold', 'Oil'],axis=1)\n",
    " \n",
    "# moving average\n",
    "def macd(data, period1 = 12, period2 = 26):\n",
    "    df = data.copy()\n",
    "    df['p1'] = df['Open'].rolling(period1).mean()\n",
    "    df['p2'] = df['Open'].rolling(period2).mean()\n",
    "    data['MACD'] = df['p1'] - df['p2']\n",
    "    return data \n",
    " \n",
    "# aroon oscillator\n",
    "def aroon(data, period=25):\n",
    "    df = data.copy()\n",
    "    df['up'] = 100 * df.High.rolling(period + 1).apply(lambda x: x.argmax()) / period\n",
    "    df['dn'] = 100 * df.Low.rolling(period + 1).apply(lambda x: x.argmin()) / period\n",
    "    data['Aroon'] = df['up'] - df['dn']\n",
    "    return data\n",
    " \n",
    "# accumulation/distribution\n",
    "def ad(data, period = 1):\n",
    "    df = data.copy()\n",
    "    df['MFM'] = df['Volume'] * (((df['Close'] - df['Low']) - (df['High'] - df['Close'])) / (df['High'] - df['Low']))\n",
    "    data['Accumulation/Distribution'] = df['MFM'].rolling(period).sum()\n",
    "    return data \n",
    " \n",
    "#stochastic oscillator\n",
    "def stochastic(data, period = 14, ma = 3):\n",
    "    df = data.copy()\n",
    "    df['14-high'] = df['High'].rolling(period).max()\n",
    "    df['14-low'] = df['Low'].rolling(period).min()\n",
    "    df['%K'] = 100 * (df['Close'] - df['14-low']) / (df['14-high'] - df['14-low'])\n",
    "    data['Stochastic Oscillator'] = df['%K'].rolling(ma).mean()\n",
    "    return data\n",
    " \n",
    "data_dow_processed = macd(data_dow_processed)\n",
    "data_dow_processed = aroon(data_dow_processed)\n",
    "data_dow_processed = ad(data_dow_processed)\n",
    "data_dow_processed = stochastic(data_dow_processed)\n",
    "data_dow_processed = data_dow_processed.iloc[26:]\n",
    "data_dow_processed = data_dow_processed.drop(['High', 'Low', 'Close', 'Open'],axis=1)\n",
    " \n",
    " \n",
    "data_sp_processed = macd(data_sp_processed)\n",
    "data_sp_processed = aroon(data_sp_processed)\n",
    "data_sp_processed = ad(data_sp_processed)\n",
    "data_sp_processed = stochastic(data_sp_processed)\n",
    "data_sp_processed = data_sp_processed.iloc[26:]\n",
    "data_sp_processed = data_sp_processed.drop(['High', 'Low', 'Close', 'Open'],axis=1)\n",
    " \n",
    "data_nas_processed = macd(data_nas_processed)\n",
    "data_nas_processed = aroon(data_nas_processed)\n",
    "data_nas_processed = ad(data_nas_processed)\n",
    "data_nas_processed = stochastic(data_nas_processed)\n",
    "data_nas_processed = data_nas_processed.iloc[26:]\n",
    "data_nas_processed = data_nas_processed.drop(['High', 'Low', 'Close', 'Open'],axis=1)\n",
    " \n",
    "data_dow_processed.head()"
   ]
  },
  {
   "cell_type": "code",
   "execution_count": 57,
   "metadata": {},
   "outputs": [
    {
     "data": {
      "image/png": "[encoded data removed]",
      "text/plain": [
       "<Figure size 432x288 with 1 Axes>"
      ]
     },
     "metadata": {
      "needs_background": "light"
     },
     "output_type": "display_data"
    },
    {
     "data": {
      "image/png": "[encoded data removed]",
      "text/plain": [
       "<Figure size 432x288 with 1 Axes>"
      ]
     },
     "metadata": {
      "needs_background": "light"
     },
     "output_type": "display_data"
    },
    {
     "data": {
      "image/png": "[encoded data removed]",
      "text/plain": [
       "<Figure size 432x288 with 1 Axes>"
      ]
     },
     "metadata": {
      "needs_background": "light"
     },
     "output_type": "display_data"
    },
    {
     "data": {
      "image/png": "[encoded data removed]",
      "text/plain": [
       "<Figure size 432x288 with 1 Axes>"
      ]
     },
     "metadata": {
      "needs_background": "light"
     },
     "output_type": "display_data"
    },
    {
     "data": {
      "image/png": "[encoded data removed]",
      "text/plain": [
       "<Figure size 432x288 with 1 Axes>"
      ]
     },
     "metadata": {
      "needs_background": "light"
     },
     "output_type": "display_data"
    },
    {
     "data": {
      "image/png": "[encoded data removed]",
      "text/plain": [
       "<Figure size 432x288 with 1 Axes>"
      ]
     },
     "metadata": {
      "needs_background": "light"
     },
     "output_type": "display_data"
    }
   ],
   "source": [
    "# compare attributes' distribution of value\n",
    "\n",
    "for column in data_dow_processed:\n",
    "    box_plot([data_dow_processed,data_sp_processed,data_nas_processed], column)"
   ]
  },
  {
   "cell_type": "markdown",
   "metadata": {},
   "source": [
    "# Results with Various Feature Engineering"
   ]
  },
  {
   "cell_type": "code",
   "execution_count": null,
   "metadata": {},
   "outputs": [],
   "source": [
    "## Add precision if we have time"
   ]
  },
  {
   "cell_type": "markdown",
   "metadata": {},
   "source": [
    "### We tried three different feature engineerings. "
   ]
  },
  {
   "cell_type": "markdown",
   "metadata": {},
   "source": [
    "## 1: without tracking the prev day; no date, TEDSpread, EFFR\n",
    "* In the first one, we removed the date since we want to see whether we can get good prediction results assuming each day’s stock price is independent from the previous days. We also removed TEDSpred and EFFR features since initially we believe they are not quite related to the prediction of the stock price."
   ]
  },
  {
   "cell_type": "code",
   "execution_count": null,
   "metadata": {},
   "outputs": [],
   "source": [
    "# DOW30\n",
    "data_dow_processed = data_dow.drop(['Date', 'TEDSpread', 'EFFR'],axis=1)\n",
    "data_dow_Y = data_dow_processed['LABEL']\n",
    "data_dow_X = data_dow_processed.drop(['LABEL'],axis=1)\n",
    "svm_grid_search = SVM_trainer(data_dow_X, data_dow_Y)\n",
    "knn_grid_search = KNN_trainer(data_dow_X, data_dow_Y)\n",
    "nn_grid_search = NN_trainer(data_dow_X, data_dow_Y)\n",
    "ensamble_trainer(svm_grid_search, knn_grid_search, nn_grid_search, data_dow_X, data_dow_Y)"
   ]
  },
  {
   "cell_type": "markdown",
   "metadata": {},
   "source": [
    "##### Results\n",
    "    Accuracy: 0.54 (+/- 0.00) [SVM]\n",
    "    Accuracy: 0.50 (+/- 0.03) [KNN]\n",
    "    Accuracy: 0.52 (+/- 0.04) [Neural Network]\n",
    "    Accuracy: 0.53 (+/- 0.03) [Ensemble]"
   ]
  },
  {
   "cell_type": "code",
   "execution_count": null,
   "metadata": {},
   "outputs": [],
   "source": [
    "# SP500\n",
    "data_sp_processed = data_sp.drop(['Date', 'TEDSpread', 'EFFR'],axis=1)\n",
    "data_sp_Y = data_sp_processed['LABEL']\n",
    "data_sp_X = data_sp_processed.drop(['LABEL'],axis=1)\n",
    "svm_grid_search = SVM_trainer(data_sp_X, data_sp_Y)\n",
    "knn_grid_search = KNN_trainer(data_sp_X, data_sp_Y)\n",
    "nn_grid_search = NN_trainer(data_sp_X, data_sp_Y)\n",
    "ensamble_trainer(svm_grid_search, knn_grid_search, nn_grid_search, data_sp_X, data_sp_Y)"
   ]
  },
  {
   "cell_type": "markdown",
   "metadata": {},
   "source": [
    "##### Results\n",
    "    Accuracy: 0.53 (+/- 0.04) [SVM]\n",
    "    Accuracy: 0.50 (+/- 0.02) [KNN]\n",
    "    Accuracy: 0.53 (+/- 0.03) [Neural Network]\n",
    "    Accuracy: 0.51 (+/- 0.04) [Ensemble]"
   ]
  },
  {
   "cell_type": "code",
   "execution_count": null,
   "metadata": {},
   "outputs": [],
   "source": [
    "# NASDAQ\n",
    "data_nas_processed = data_nas.drop(['Date', 'TEDSpread', 'EFFR'],axis=1)\n",
    "data_nas_Y = data_nas_processed['LABEL']\n",
    "data_nas_X = data_nas_processed.drop(['LABEL'],axis=1)\n",
    "SVM_trainer(data_nas_X, data_nas_Y)\n",
    "svm_grid_search = SVM_trainer(data_nas_X, data_nas_Y)\n",
    "knn_grid_search = KNN_trainer(data_nas_X, data_nas_Y)\n",
    "nn_grid_search = NN_trainer(data_nas_X, data_nas_Y)\n",
    "ensamble_trainer(svm_grid_search, knn_grid_search, nn_grid_search, data_nas_X, data_nas_Y)"
   ]
  },
  {
   "cell_type": "markdown",
   "metadata": {},
   "source": [
    "##### Results\n",
    "    Accuracy: 0.56 (+/- 0.00) [SVM]\n",
    "    Accuracy: 0.47 (+/- 0.04) [KNN]\n",
    "    Accuracy: 0.56 (+/- 0.00) [Neural Network]\n",
    "    Accuracy: 0.55 (+/- 0.00) [Ensemble]"
   ]
  },
  {
   "cell_type": "markdown",
   "metadata": {},
   "source": [
    "## 2: tracking the prev day; no date, TEDSpread, EFFR\n",
    "* In the second one, we added the predictions of the previous day of the other two datasets, and we removed the date, TEDSpred, and EFFR as we did in the first. Comparing the first and the second, we are able to conclude if adding the predictions of the previous day of the other two datasets would improve accuracy."
   ]
  },
  {
   "cell_type": "code",
   "execution_count": null,
   "metadata": {},
   "outputs": [],
   "source": [
    "# preprocess data\n",
    "def process_data(target_dataset, dataset_label1, dataset_label2, label1, label2):\n",
    "    data_processed = target_dataset.drop(['Date', 'TEDSpread', 'EFFR'],axis=1)\n",
    "    labels1 = dataset_label1.iloc[0:, 1]\n",
    "    labels2 = dataset_label2.iloc[0:, 1]\n",
    "    data_processed[label1] = labels1\n",
    "    data_processed[label1] = data_processed[label1].shift(periods=1, fill_value=-1)\n",
    "    data_processed[label2] = labels2\n",
    "    data_processed[label2] = data_processed[label2].shift(periods=1, fill_value=-1)\n",
    "    data_processed = data_processed.iloc[1: , :]\n",
    "    return data_processed"
   ]
  },
  {
   "cell_type": "code",
   "execution_count": 41,
   "metadata": {},
   "outputs": [
    {
     "ename": "NameError",
     "evalue": "name 'process_data' is not defined",
     "output_type": "error",
     "traceback": [
      "\u001b[1;31m---------------------------------------------------------------------------\u001b[0m",
      "\u001b[1;31mNameError\u001b[0m                                 Traceback (most recent call last)",
      "\u001b[1;32m<ipython-input-41-91ed0e4f0131>\u001b[0m in \u001b[0;36m<module>\u001b[1;34m\u001b[0m\n\u001b[0;32m      1\u001b[0m \u001b[1;31m# DOW30\u001b[0m\u001b[1;33m\u001b[0m\u001b[1;33m\u001b[0m\u001b[1;33m\u001b[0m\u001b[0m\n\u001b[1;32m----> 2\u001b[1;33m \u001b[0mdata_dow_processed\u001b[0m \u001b[1;33m=\u001b[0m \u001b[0mprocess_data\u001b[0m\u001b[1;33m(\u001b[0m\u001b[0mdata_dow\u001b[0m\u001b[1;33m,\u001b[0m \u001b[0mdata_sp\u001b[0m\u001b[1;33m,\u001b[0m \u001b[0mdata_nas\u001b[0m\u001b[1;33m,\u001b[0m \u001b[1;34m\"SP500\"\u001b[0m\u001b[1;33m,\u001b[0m \u001b[1;34m\"NASDAQ\"\u001b[0m\u001b[1;33m)\u001b[0m\u001b[1;33m\u001b[0m\u001b[1;33m\u001b[0m\u001b[0m\n\u001b[0m\u001b[0;32m      3\u001b[0m \u001b[0mdata_dow_Y\u001b[0m \u001b[1;33m=\u001b[0m \u001b[0mdata_dow_processed\u001b[0m\u001b[1;33m[\u001b[0m\u001b[1;34m'LABEL'\u001b[0m\u001b[1;33m]\u001b[0m\u001b[1;33m\u001b[0m\u001b[1;33m\u001b[0m\u001b[0m\n\u001b[0;32m      4\u001b[0m \u001b[0mdata_dow_X\u001b[0m \u001b[1;33m=\u001b[0m \u001b[0mdata_dow_processed\u001b[0m\u001b[1;33m.\u001b[0m\u001b[0mdrop\u001b[0m\u001b[1;33m(\u001b[0m\u001b[1;33m[\u001b[0m\u001b[1;34m'LABEL'\u001b[0m\u001b[1;33m]\u001b[0m\u001b[1;33m,\u001b[0m\u001b[0maxis\u001b[0m\u001b[1;33m=\u001b[0m\u001b[1;36m1\u001b[0m\u001b[1;33m)\u001b[0m\u001b[1;33m\u001b[0m\u001b[1;33m\u001b[0m\u001b[0m\n\u001b[0;32m      5\u001b[0m \u001b[0msvm_grid_search\u001b[0m \u001b[1;33m=\u001b[0m \u001b[0mSVM_trainer\u001b[0m\u001b[1;33m(\u001b[0m\u001b[0mdata_dow_X\u001b[0m\u001b[1;33m,\u001b[0m \u001b[0mdata_dow_Y\u001b[0m\u001b[1;33m)\u001b[0m\u001b[1;33m\u001b[0m\u001b[1;33m\u001b[0m\u001b[0m\n",
      "\u001b[1;31mNameError\u001b[0m: name 'process_data' is not defined"
     ]
    }
   ],
   "source": [
    "# DOW30\n",
    "data_dow_processed = process_data(data_dow, data_sp, data_nas, \"SP500\", \"NASDAQ\")\n",
    "data_dow_Y = data_dow_processed['LABEL']\n",
    "data_dow_X = data_dow_processed.drop(['LABEL'],axis=1)\n",
    "svm_grid_search = SVM_trainer(data_dow_X, data_dow_Y)\n",
    "knn_grid_search = KNN_trainer(data_dow_X, data_dow_Y)\n",
    "nn_grid_search = NN_trainer(data_dow_X, data_dow_Y)\n",
    "ensamble_trainer(svm_grid_search, knn_grid_search, nn_grid_search, data_dow_X, data_dow_Y)"
   ]
  },
  {
   "cell_type": "markdown",
   "metadata": {},
   "source": [
    "##### Results\n",
    "    Accuracy: 0.53 (+/- 0.01) [SVM]\n",
    "    Accuracy: 0.51 (+/- 0.03) [KNN]\n",
    "    Accuracy: 0.52 (+/- 0.03) [Neural Network]\n",
    "    Accuracy: 0.53 (+/- 0.02) [Ensemble]"
   ]
  },
  {
   "cell_type": "code",
   "execution_count": null,
   "metadata": {},
   "outputs": [],
   "source": [
    "# SP500\n",
    "data_sp_processed = process_data(data_sp, data_dow, data_nas, \"DOW30\", \"NASDAQ\")\n",
    "data_sp_Y = data_sp_processed['LABEL']\n",
    "data_sp_X = data_sp_processed.drop(['LABEL'],axis=1)\n",
    "svm_grid_search = SVM_trainer(data_sp_X, data_sp_Y)\n",
    "knn_grid_search = KNN_trainer(data_sp_X, data_sp_Y)\n",
    "nn_grid_search = NN_trainer(data_sp_X, data_sp_Y)\n",
    "ensamble_trainer(svm_grid_search, knn_grid_search, nn_grid_search, data_sp_X, data_sp_Y)"
   ]
  },
  {
   "cell_type": "markdown",
   "metadata": {},
   "source": [
    "##### Results\n",
    "    Accuracy: 0.55 (+/- 0.00) [SVM]\n",
    "    Accuracy: 0.50 (+/- 0.02) [KNN]\n",
    "    Accuracy: 0.54 (+/- 0.01) [Neural Network]\n",
    "    Accuracy: 0.54 (+/- 0.01) [Ensemble]"
   ]
  },
  {
   "cell_type": "code",
   "execution_count": null,
   "metadata": {},
   "outputs": [],
   "source": [
    "# NASDAQ\n",
    "data_nas_processed = process_data(data_nas, data_dow, data_sp, \"DOW30\", \"SP500\")\n",
    "data_nas_Y = data_nas_processed['LABEL']\n",
    "data_nas_X = data_nas_processed.drop(['LABEL'],axis=1)\n",
    "SVM_trainer(data_nas_X, data_nas_Y)\n",
    "svm_grid_search = SVM_trainer(data_nas_X, data_nas_Y)\n",
    "knn_grid_search = KNN_trainer(data_nas_X, data_nas_Y)\n",
    "nn_grid_search = NN_trainer(data_nas_X, data_nas_Y)\n",
    "ensamble_trainer(svm_grid_search, knn_grid_search, nn_grid_search, data_nas_X, data_nas_Y)"
   ]
  },
  {
   "cell_type": "markdown",
   "metadata": {},
   "source": [
    "##### Results\n",
    "    Accuracy: 0.55 (+/- 0.02) [SVM]\n",
    "    Accuracy: 0.50 (+/- 0.04) [KNN]\n",
    "    Accuracy: 0.56 (+/- 0.00) [Neural Network]\n",
    "    Accuracy: 0.54 (+/- 0.02) [Ensemble]"
   ]
  },
  {
   "cell_type": "markdown",
   "metadata": {},
   "source": [
    "## 3: tracking the prev day; no date\n",
    "* In the third one, we added the predictions of the previous day of the other two datasets, and we only removed the date. Comparing the second and third, we are able to conclude if adding TEDSpred, and EFFR features would improve accuracy."
   ]
  },
  {
   "cell_type": "code",
   "execution_count": null,
   "metadata": {},
   "outputs": [],
   "source": [
    "# preprocess data\n",
    "def process_data_2(target_dataset, dataset_label1, dataset_label2, label1, label2):\n",
    "    data_processed = target_dataset.drop(['Date'],axis=1)\n",
    "    labels1 = dataset_label1.iloc[0:, 1]\n",
    "    labels2 = dataset_label2.iloc[0:, 1]\n",
    "    data_processed[label1] = labels1\n",
    "    data_processed[label1] = data_processed[label1].shift(periods=1, fill_value=-1)\n",
    "    data_processed[label2] = labels2\n",
    "    data_processed[label2] = data_processed[label2].shift(periods=1, fill_value=-1)\n",
    "    data_processed = data_processed.iloc[1: , :]\n",
    "    return data_processed"
   ]
  },
  {
   "cell_type": "code",
   "execution_count": null,
   "metadata": {},
   "outputs": [],
   "source": [
    "# DOW30\n",
    "data_dow_processed = process_data_2(data_dow, data_sp, data_nas, \"SP500\", \"NASDAQ\")\n",
    "data_dow_Y = data_dow_processed['LABEL']\n",
    "data_dow_X = data_dow_processed.drop(['LABEL'],axis=1)\n",
    "svm_grid_search = SVM_trainer(data_dow_X, data_dow_Y)\n",
    "knn_grid_search = KNN_trainer(data_dow_X, data_dow_Y)\n",
    "nn_grid_search = NN_trainer(data_dow_X, data_dow_Y)\n",
    "ensamble_trainer(svm_grid_search, knn_grid_search, nn_grid_search, data_dow_X, data_dow_Y)"
   ]
  },
  {
   "cell_type": "markdown",
   "metadata": {},
   "source": [
    "##### Results\n",
    "    Accuracy: 0.54 (+/- 0.01) [SVM]\n",
    "    Accuracy: 0.50 (+/- 0.03) [KNN]\n",
    "    Accuracy: 0.53 (+/- 0.03) [Neural Network]\n",
    "    Accuracy: 0.53 (+/- 0.02) [Ensemble]"
   ]
  },
  {
   "cell_type": "code",
   "execution_count": null,
   "metadata": {},
   "outputs": [],
   "source": [
    "# SP500\n",
    "data_sp_processed = process_data_2(data_sp, data_dow, data_nas, \"DOW30\", \"NASDAQ\")\n",
    "data_sp_Y = data_sp_processed['LABEL']\n",
    "data_sp_X = data_sp_processed.drop(['LABEL'],axis=1)\n",
    "svm_grid_search = SVM_trainer(data_sp_X, data_sp_Y)\n",
    "knn_grid_search = KNN_trainer(data_sp_X, data_sp_Y)\n",
    "nn_grid_search = NN_trainer(data_sp_X, data_sp_Y)\n",
    "ensamble_trainer(svm_grid_search, knn_grid_search, nn_grid_search, data_sp_X, data_sp_Y)"
   ]
  },
  {
   "cell_type": "markdown",
   "metadata": {},
   "source": [
    "##### Results\n",
    "    Accuracy: 0.55 (+/- 0.00) [SVM]\n",
    "    Accuracy: 0.50 (+/- 0.02) [KNN]\n",
    "    Accuracy: 0.53 (+/- 0.03) [Neural Network]\n",
    "    Accuracy: 0.53 (+/- 0.02) [Ensemble]"
   ]
  },
  {
   "cell_type": "code",
   "execution_count": null,
   "metadata": {},
   "outputs": [],
   "source": [
    "# NASDAQ\n",
    "data_nas_processed = process_data_2(data_nas, data_dow, data_sp, \"DOW30\", \"SP500\")\n",
    "data_nas_Y = data_nas_processed['LABEL']\n",
    "data_nas_X = data_nas_processed.drop(['LABEL'],axis=1)\n",
    "SVM_trainer(data_nas_X, data_nas_Y)\n",
    "svm_grid_search = SVM_trainer(data_nas_X, data_nas_Y)\n",
    "knn_grid_search = KNN_trainer(data_nas_X, data_nas_Y)\n",
    "nn_grid_search = NN_trainer(data_nas_X, data_nas_Y)\n",
    "ensamble_trainer(svm_grid_search, knn_grid_search, nn_grid_search, data_nas_X, data_nas_Y)"
   ]
  },
  {
   "cell_type": "markdown",
   "metadata": {},
   "source": [
    "##### Results\n",
    "    Accuracy: 0.55 (+/- 0.02) [SVM]\n",
    "    Accuracy: 0.48 (+/- 0.05) [KNN]\n",
    "    Accuracy: 0.55 (+/- 0.01) [Neural Network]\n",
    "    Accuracy: 0.54 (+/- 0.02) [Ensemble]"
   ]
  },
  {
   "cell_type": "markdown",
   "metadata": {},
   "source": [
    "# Results Analysis"
   ]
  },
  {
   "cell_type": "markdown",
   "metadata": {},
   "source": [
    "### Compare results on each dataset"
   ]
  },
  {
   "cell_type": "code",
   "execution_count": 40,
   "metadata": {},
   "outputs": [
    {
     "data": {
      "image/png": "[encoded data removed]",
      "text/plain": [
       "<Figure size 864x576 with 1 Axes>"
      ]
     },
     "metadata": {
      "needs_background": "light"
     },
     "output_type": "display_data"
    },
    {
     "data": {
      "image/png": "[encoded data removed]",
      "text/plain": [
       "<Figure size 864x576 with 1 Axes>"
      ]
     },
     "metadata": {
      "needs_background": "light"
     },
     "output_type": "display_data"
    },
    {
     "data": {
      "image/png": "[encoded data removed]",
      "text/plain": [
       "<Figure size 864x576 with 1 Axes>"
      ]
     },
     "metadata": {
      "needs_background": "light"
     },
     "output_type": "display_data"
    }
   ],
   "source": [
    "## TODO bar graph\n",
    "# set width of bar\n",
    "def bar_plot(data_1, data_2, data_3, err_1, err_2, err_3, title):\n",
    "    barWidth = 0.1\n",
    "    fig = plt.subplots(figsize =(12, 8))\n",
    "\n",
    "    # Set position of bar on X axis\n",
    "    br1 = np.arange(len(data_1))\n",
    "    br2 = [x + barWidth for x in br1]\n",
    "    br3 = [x + barWidth for x in br2]\n",
    "\n",
    "    # Make the plot\n",
    "    plt.bar(br1, data_1, color ='r', width = barWidth,\n",
    "            edgecolor ='grey', label='DOW30', yerr=err_1, capsize=3)\n",
    "    plt.bar(br2, data_2, color ='g', width = barWidth,\n",
    "            edgecolor ='grey', label='SP500', yerr=err_2, capsize=3)\n",
    "    plt.bar(br3, data_3, color ='b', width = barWidth,\n",
    "            edgecolor ='grey', label='NASDAQ', yerr=err_3, capsize=3)\n",
    "\n",
    "    # Adding Xticks\n",
    "    plt.xlabel('Model', fontweight ='bold', fontsize = 15)\n",
    "    plt.ylabel('Accuracy (%)', fontweight ='bold', fontsize = 15)\n",
    "    plt.xticks([r + barWidth for r in range(4)],\n",
    "            ['SVM', 'KNN', 'NN', 'Ensemble'])\n",
    "    plt.title(title)\n",
    "\n",
    "    plt.legend()\n",
    "    plt.show()\n",
    "    \n",
    "dow30_fe_1 = [54, 50, 52, 53]\n",
    "dow30_error_fe_1 = [0, 3, 4, 3]\n",
    "sp500_fe_1 = [53, 50, 53, 51]\n",
    "sp500_error_fe_1 = [4, 2, 3, 4]\n",
    "nasdaq_fe_1 = [56, 47, 56, 55]\n",
    "nasdaq_error_fe_1 = [0, 4, 0, 0]\n",
    "bar_plot(dow30_fe_1, sp500_fe_1, nasdaq_fe_1, dow30_error_fe_1, sp500_error_fe_1, nasdaq_error_fe_1, \"Feature Engineering 1\")\n",
    "    \n",
    "dow30_fe_2 = [53, 51, 52, 53]\n",
    "dow30_error_fe_2 = [1, 3, 3, 2]\n",
    "sp500_fe_2 = [55, 50, 54, 54]\n",
    "sp500_error_fe_2 = [0, 2, 1, 1]\n",
    "nasdaq_fe_2 = [55, 50, 56, 54]\n",
    "nasdaq_error_fe_2 = [2, 4, 0, 2]\n",
    "bar_plot(dow30_fe_2, sp500_fe_2, nasdaq_fe_2, dow30_error_fe_2, sp500_error_fe_2, nasdaq_error_fe_2, \"Feature Engineering 2\")\n",
    "    \n",
    "dow30_fe_3 = [54, 50, 53, 53]\n",
    "dow30_error_fe_3 = [1, 3, 3, 2]\n",
    "sp500_fe_3 = [55, 50, 53, 53]\n",
    "sp500_error_fe_3 = [0, 2, 3, 2]\n",
    "nasdaq_fe_3 = [55, 48, 55, 54]\n",
    "nasdaq_error_fe_3 = [2, 5, 1, 2]\n",
    "bar_plot(dow30_fe_3, sp500_fe_3, nasdaq_fe_3, dow30_error_fe_3, sp500_error_fe_3, nasdaq_error_fe_3, \"Feature Engineering 3\")\n",
    "\n"
   ]
  },
  {
   "cell_type": "markdown",
   "metadata": {},
   "source": [
    "To improve our results, we tried different feature engineerings and different models. For each model, we tried to find the best hyperparameters. Although the final models don’t have a perfect performance, they have already been improved from the original models with accuracies of ~49%.\n",
    "\n",
    "\n",
    "Among the final models:\n",
    "- For DOW30, feature engineering 3 performs the best. Among all methods, SVM generates the best accuracy, 54%.\n",
    "- For SP500, feature engineering 2 performs the best. Among all methods, SVM generates the best accuracy, 55%.\n",
    "- For NASDAQ, feature engineering 1 performs the best. Among all methods, SVM and Neural Network both generate the best accuracies, 56%.\n",
    "\n",
    "\n",
    "Overall, SVM performs the best and KNN performs the worst.\n",
    "The model didn’t work very well with our datasets in general. Since stock market price is influenced by a complex set of factors, we may need more data, more features and feature engineerings based on professional knowlegde to build better models."
   ]
  },
  {
   "cell_type": "code",
   "execution_count": null,
   "metadata": {},
   "outputs": [],
   "source": []
  }
 ],
 "metadata": {
  "interpreter": {
   "hash": "30295c5bec572e859485b1ffa5e89b8b3e2022ef6e3e739c1ac40f143a557caf"
  },
  "kernelspec": {
   "display_name": "Python 3",
   "language": "python",
   "name": "python3"
  },
  "language_info": {
   "codemirror_mode": {
    "name": "ipython",
    "version": 3
   },
   "file_extension": ".py",
   "mimetype": "text/x-python",
   "name": "python",
   "nbconvert_exporter": "python",
   "pygments_lexer": "ipython3",
   "version": "3.8.8"
  }
 },
 "nbformat": 4,
 "nbformat_minor": 4
}
